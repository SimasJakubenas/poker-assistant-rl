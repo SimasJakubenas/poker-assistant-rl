{
 "cells": [
  {
   "cell_type": "markdown",
   "metadata": {},
   "source": [
    "# **Hand History Study**"
   ]
  },
  {
   "cell_type": "markdown",
   "metadata": {},
   "source": [
    "## Objectives\n",
    "\n",
    "* Answer **requirement 1**:\n",
    "    * Investigate if hero has a positive win rate\n",
    "\n",
    "## Inputs\n",
    "\n",
    "* outputs/datasets/collection/0.05 - 0.1 - 6max.txt\n",
    "\n",
    "## Outputs\n",
    "\n",
    "* Parse data from hand history\n",
    "* Plot a grapfh with heros win/loss over the sample of hands and calculate win rate"
   ]
  },
  {
   "cell_type": "markdown",
   "metadata": {},
   "source": [
    "---"
   ]
  },
  {
   "cell_type": "markdown",
   "metadata": {},
   "source": [
    "# Change working directory"
   ]
  },
  {
   "cell_type": "markdown",
   "metadata": {},
   "source": [
    "Since jupyter notebooks are in a subfolder we need to change the working directory from its current folder to its parent folder\n",
    "* We access the current directory with os.getcwd()"
   ]
  },
  {
   "cell_type": "code",
   "execution_count": null,
   "metadata": {},
   "outputs": [],
   "source": [
    "import os\n",
    "current_dir = os.getcwd()\n",
    "current_dir"
   ]
  },
  {
   "cell_type": "markdown",
   "metadata": {},
   "source": [
    "We want to make the parent of the current directory the new current directory\n",
    "* os.path.dirname() gets the parent directory\n",
    "* os.chir() defines the new current directory"
   ]
  },
  {
   "cell_type": "code",
   "execution_count": null,
   "metadata": {},
   "outputs": [],
   "source": [
    "os.chdir(os.path.dirname(current_dir))\n",
    "print(\"You set a new current directory\")"
   ]
  },
  {
   "cell_type": "markdown",
   "metadata": {},
   "source": [
    "Confirm the new current directory"
   ]
  },
  {
   "cell_type": "code",
   "execution_count": null,
   "metadata": {},
   "outputs": [],
   "source": [
    "current_dir = os.getcwd()\n",
    "current_dir"
   ]
  },
  {
   "cell_type": "markdown",
   "metadata": {},
   "source": [
    "# Load Data"
   ]
  },
  {
   "cell_type": "code",
   "execution_count": null,
   "metadata": {},
   "outputs": [],
   "source": [
    "import glob\n",
    "\n",
    "input_folder = \"outputs/datasets/collection\"\n",
    "txt_files = glob.glob(f\"{input_folder}/*.txt\")\n",
    "txt_files[0]\n",
    "\n",
    "# Read the content of the first text file\n",
    "with open(txt_files[0], 'r', encoding=\"utf-8\") as file:\n",
    "    content = file.read()"
   ]
  },
  {
   "cell_type": "markdown",
   "metadata": {},
   "source": [
    "---"
   ]
  },
  {
   "cell_type": "markdown",
   "metadata": {},
   "source": [
    "# Parse Data"
   ]
  },
  {
   "cell_type": "markdown",
   "metadata": {},
   "source": [
    "* Split into individual hands"
   ]
  },
  {
   "cell_type": "code",
   "execution_count": null,
   "metadata": {},
   "outputs": [],
   "source": [
    "import re\n",
    "\n",
    "hand_pattern = r\"Poker Hand #RC\\d+: .*?(?=Poker Hand #RC\\d+:|$)\"\n",
    "hands = re.findall(hand_pattern, content, re.DOTALL)\n",
    "\n",
    "print(f\"There is {len(hands)} of hands in the sample\")"
   ]
  },
  {
   "cell_type": "markdown",
   "metadata": {},
   "source": [
    "* Parse the data and gather hero's win/loss amount for every hand and create a dataframe"
   ]
  },
  {
   "cell_type": "code",
   "execution_count": null,
   "metadata": {},
   "outputs": [],
   "source": [
    "import pandas as pd\n",
    "\n",
    "def get_hero_result(hand_history):\n",
    "    # Extract hand ID\n",
    "    hand_id_match = re.search(r\"Poker Hand #(\\w+)\", hand_history)\n",
    "    hand_id = hand_id_match.group(1) if hand_id_match else \"Unknown\"\n",
    "\n",
    "    # Find Hero's blinds\n",
    "    small_blind_match = re.search(r\"Hero: posts small blind \\$(\\d+\\.\\d+)\", hand_history)\n",
    "    big_blind_match = re.search(r\"Hero: posts big blind \\$(\\d+\\.\\d+)\", hand_history)\n",
    "    \n",
    "    small_blind = float(small_blind_match.group(1)) if small_blind_match else 0.0\n",
    "    big_blind = float(big_blind_match.group(1)) if big_blind_match else 0.0\n",
    "\n",
    "    # Find Hero's raises (only the final value)\n",
    "    hero_raises = re.findall(r\"Hero: raises \\$(?:[\\d.]+) to \\$(\\d+\\.\\d+)\", hand_history)\n",
    "    total_raise = float(hero_raises[-1]) if hero_raises else 0.0\n",
    "\n",
    "    # Find Hero's calls and bets\n",
    "    hero_bets_calls = re.findall(r\"Hero: (bets|calls) \\$(\\d+\\.\\d+)\", hand_history)\n",
    "    total_bet_call = sum(float(amount) for _, amount in hero_bets_calls)\n",
    "\n",
    "    # Determine Hero's total bet amount\n",
    "    if hero_raises:\n",
    "        total_bet = total_raise  # Use final raise value\n",
    "        if hero_bets_calls:  # Add any bets/calls AFTER a raise\n",
    "            total_bet += total_bet_call\n",
    "    else:\n",
    "        total_bet = total_bet_call  # If no raise, just sum bets/calls\n",
    "\n",
    "    # If Hero did not bet/raise, add blinds\n",
    "    if not (hero_bets_calls or hero_raises):\n",
    "        total_bet += small_blind + big_blind\n",
    "\n",
    "    # Find Hero's winnings\n",
    "    uncalled_bet_match = re.search(r\"Uncalled bet \\(\\$(\\d+\\.\\d+)\\) returned to Hero\", hand_history)\n",
    "    collected_pot_match = re.search(r\"Hero collected \\$(\\d+\\.\\d+) from pot\", hand_history)\n",
    "\n",
    "    uncalled_bet = float(uncalled_bet_match.group(1)) if uncalled_bet_match else 0.0\n",
    "    collected_pot = float(collected_pot_match.group(1)) if collected_pot_match else 0.0\n",
    "\n",
    "    total_won = uncalled_bet + collected_pot\n",
    "    net_result = total_won - total_bet\n",
    "    return {\"Hand_ID\": hand_id, \"Total_Bet\": total_bet, \"Total_Won\": total_won, \"Net_Result\": net_result}\n",
    "\n",
    "# Process multiple hands into a DataFrame\n",
    "data = [get_hero_result(hand) for hand in hands]\n",
    "df = pd.DataFrame(data)\n",
    "df.head()"
   ]
  },
  {
   "cell_type": "markdown",
   "metadata": {},
   "source": [
    "* Add a running total column"
   ]
  },
  {
   "cell_type": "code",
   "execution_count": null,
   "metadata": {},
   "outputs": [],
   "source": [
    "df['Total'] = df['Net_Result'].cumsum().round(2)\n",
    "df"
   ]
  },
  {
   "cell_type": "markdown",
   "metadata": {},
   "source": [
    "* Plot Hero's win rate"
   ]
  },
  {
   "cell_type": "code",
   "execution_count": null,
   "metadata": {},
   "outputs": [],
   "source": [
    "import matplotlib.pyplot as plt\n",
    "import seaborn as sns\n",
    "import numpy as np\n",
    "\n",
    "sns.set_style('whitegrid')\n",
    "# Enable inline plotting in Jupyter Notebook\n",
    "%matplotlib inline \n",
    "\n",
    "# Calculate the regression line\n",
    "x = np.arange(len(df))\n",
    "y = df['Total'].values\n",
    "coefficients = np.polyfit(x, y, 1)\n",
    "trendline = np.polyval(coefficients, x)\n",
    "\n",
    "# Adjust the trendline to start at 0\n",
    "trendline = trendline - trendline[0]\n",
    "\n",
    "plt.figure(figsize=(12, 5))\n",
    "sns.lineplot(data=df, x=df.index, y='Total', label='Total Win/Loss')\n",
    "plt.plot(df.index, trendline, label='Trend Line', color='red')\n",
    "\n",
    "plt.legend()\n",
    "plt.show()"
   ]
  },
  {
   "cell_type": "markdown",
   "metadata": {},
   "source": [
    "* Calculate the win rate in bb/100 hands"
   ]
  },
  {
   "cell_type": "code",
   "execution_count": null,
   "metadata": {},
   "outputs": [],
   "source": [
    "win_rate = round(float(df.iloc[-1]['Total'] * 10 /100), 1)\n",
    "print(f\"Hero's win rate is {win_rate} bb/100\")"
   ]
  },
  {
   "cell_type": "markdown",
   "metadata": {},
   "source": [
    "---"
   ]
  },
  {
   "cell_type": "markdown",
   "metadata": {},
   "source": [
    "# Conclusions and Next steps"
   ]
  },
  {
   "cell_type": "markdown",
   "metadata": {},
   "source": [
    "* We discovered that hero has a win rate of 5.3 bb/100 hands. This fulfills the **requirement 1**.\n",
    "* We will use this data to pre-train re-inforcement model agents in the next notebook."
   ]
  }
 ],
 "metadata": {
  "kernelspec": {
   "display_name": "pytorch39",
   "language": "python",
   "name": "python3"
  },
  "language_info": {
   "codemirror_mode": {
    "name": "ipython",
    "version": 3
   },
   "file_extension": ".py",
   "mimetype": "text/x-python",
   "name": "python",
   "nbconvert_exporter": "python",
   "pygments_lexer": "ipython3",
   "version": "3.9.21"
  }
 },
 "nbformat": 4,
 "nbformat_minor": 2
}
