{
 "cells": [
  {
   "cell_type": "markdown",
   "metadata": {},
   "source": [
    "# **Hand History Study**"
   ]
  },
  {
   "cell_type": "markdown",
   "metadata": {},
   "source": [
    "## Objectives\n",
    "\n",
    "* Answer **requirement 1**:\n",
    "    * Investigate if hero has a positive win rate\n",
    "\n",
    "## Inputs\n",
    "\n",
    "* outputs/datasets/collection/0.05 - 0.1 - 6max.txt\n",
    "\n",
    "## Outputs\n",
    "\n",
    "* Parse data from hand history\n",
    "* Plot a grapfh with heros win/loss over the sample of hands and calculate win rate"
   ]
  },
  {
   "cell_type": "markdown",
   "metadata": {},
   "source": [
    "---"
   ]
  },
  {
   "cell_type": "markdown",
   "metadata": {},
   "source": [
    "# Change working directory"
   ]
  },
  {
   "cell_type": "markdown",
   "metadata": {},
   "source": [
    "Since jupyter notebooks are in a subfolder we need to change the working directory from its current folder to its parent folder\n",
    "* We access the current directory with os.getcwd()"
   ]
  },
  {
   "cell_type": "code",
   "execution_count": 2,
   "metadata": {},
   "outputs": [
    {
     "data": {
      "text/plain": [
       "'d:\\\\codeacademy_darbai\\\\poker_assistant\\\\poker-assistant-rl\\\\supervised_learning'"
      ]
     },
     "execution_count": 2,
     "metadata": {},
     "output_type": "execute_result"
    }
   ],
   "source": [
    "import os\n",
    "current_dir = os.getcwd()\n",
    "current_dir"
   ]
  },
  {
   "cell_type": "markdown",
   "metadata": {},
   "source": [
    "We want to make the parent of the current directory the new current directory\n",
    "* os.path.dirname() gets the parent directory\n",
    "* os.chir() defines the new current directory"
   ]
  },
  {
   "cell_type": "code",
   "execution_count": 3,
   "metadata": {},
   "outputs": [
    {
     "name": "stdout",
     "output_type": "stream",
     "text": [
      "You set a new current directory\n"
     ]
    }
   ],
   "source": [
    "os.chdir(os.path.dirname(current_dir))\n",
    "print(\"You set a new current directory\")"
   ]
  },
  {
   "cell_type": "markdown",
   "metadata": {},
   "source": [
    "Confirm the new current directory"
   ]
  },
  {
   "cell_type": "code",
   "execution_count": 4,
   "metadata": {},
   "outputs": [
    {
     "data": {
      "text/plain": [
       "'d:\\\\codeacademy_darbai\\\\poker_assistant\\\\poker-assistant-rl'"
      ]
     },
     "execution_count": 4,
     "metadata": {},
     "output_type": "execute_result"
    }
   ],
   "source": [
    "current_dir = os.getcwd()\n",
    "current_dir"
   ]
  },
  {
   "cell_type": "markdown",
   "metadata": {},
   "source": [
    "# Load Data"
   ]
  },
  {
   "cell_type": "code",
   "execution_count": null,
   "metadata": {},
   "outputs": [],
   "source": [
    "import glob\n",
    "\n",
    "input_folder = \"outputs/datasets/collection\"\n",
    "txt_files = glob.glob(f\"{input_folder}/*.txt\")\n",
    "txt_files[0]\n",
    "\n",
    "# Read the content of the first text file\n",
    "with open(txt_files[0], 'r', encoding=\"utf-8\") as file:\n",
    "    content = file.read()"
   ]
  },
  {
   "cell_type": "markdown",
   "metadata": {},
   "source": [
    "---"
   ]
  },
  {
   "cell_type": "markdown",
   "metadata": {},
   "source": [
    "# Parse Data"
   ]
  },
  {
   "cell_type": "markdown",
   "metadata": {},
   "source": [
    "* Split into individual hands"
   ]
  },
  {
   "cell_type": "code",
   "execution_count": null,
   "metadata": {},
   "outputs": [
    {
     "name": "stdout",
     "output_type": "stream",
     "text": [
      "There is 12493 of hands in the sample\n",
      "Poker Hand #RC3192596592: Hold'em No Limit ($0.05/$0.1) - 2024/12/30 14:31:34\n",
      "Table 'RushAndCash9471852' 6-max Seat #1 is the button\n",
      "Seat 1: f586e544 ($13.95 in chips)\n",
      "Seat 2: f04a2729 ($13.83 in chips)\n",
      "Seat 3: Hero ($5.61 in chips)\n",
      "Seat 4: bb5915e7 ($11.72 in chips)\n",
      "Seat 5: 5d3d0212 ($6.49 in chips)\n",
      "Seat 6: fb6b614c ($10.84 in chips)\n",
      "f04a2729: posts small blind $0.05\n",
      "Hero: posts big blind $0.1\n",
      "*** HOLE CARDS ***\n",
      "Dealt to f586e544 \n",
      "Dealt to f04a2729 \n",
      "Dealt to Hero [4h 6d]\n",
      "Dealt to bb5915e7 \n",
      "Dealt to 5d3d0212 \n",
      "Dealt to fb6b614c \n",
      "bb5915e7: folds\n",
      "5d3d0212: folds\n",
      "fb6b614c: folds\n",
      "f586e544: folds\n",
      "f04a2729: folds\n",
      "Uncalled bet ($0.05) returned to Hero\n",
      "*** SHOWDOWN ***\n",
      "Hero collected $0.1 from pot\n",
      "*** SUMMARY ***\n",
      "Total pot $0.1 | Rake $0 | Jackpot $0 | Bingo $0 | Fortune $0 | Tax $0\n",
      "Seat 1: f586e544 (button) folded before Flop (didn't bet)\n",
      "Seat 2: f04a2729 (small blind) folded before Flop\n",
      "Seat 3: Hero (big blind) collected ($0.1)\n",
      "Seat 4: bb5915e7 folded before Flop (didn't bet)\n",
      "Seat 5: 5d3d0212 folded before Flop (didn't bet)\n",
      "Seat 6: fb6b614c folded before Flop (didn't bet)\n",
      "\n"
     ]
    }
   ],
   "source": [
    "import re\n",
    "\n",
    "hand_pattern = r\"Poker Hand #RC\\d+: .*?(?=Poker Hand #RC\\d+:|$)\"\n",
    "hands = re.findall(hand_pattern, content, re.DOTALL)\n",
    "\n",
    "print(f\"There is {len(hands)} of hands in the sample\")"
   ]
  },
  {
   "cell_type": "markdown",
   "metadata": {},
   "source": [
    "* Parse the data and gather hero's win/loss amount for every hand and create a dataframe"
   ]
  },
  {
   "cell_type": "code",
   "execution_count": 46,
   "metadata": {},
   "outputs": [
    {
     "data": {
      "text/html": [
       "<div>\n",
       "<style scoped>\n",
       "    .dataframe tbody tr th:only-of-type {\n",
       "        vertical-align: middle;\n",
       "    }\n",
       "\n",
       "    .dataframe tbody tr th {\n",
       "        vertical-align: top;\n",
       "    }\n",
       "\n",
       "    .dataframe thead th {\n",
       "        text-align: right;\n",
       "    }\n",
       "</style>\n",
       "<table border=\"1\" class=\"dataframe\">\n",
       "  <thead>\n",
       "    <tr style=\"text-align: right;\">\n",
       "      <th></th>\n",
       "      <th>Hand_ID</th>\n",
       "      <th>Total_Bet</th>\n",
       "      <th>Total_Won</th>\n",
       "      <th>Net_Result</th>\n",
       "    </tr>\n",
       "  </thead>\n",
       "  <tbody>\n",
       "    <tr>\n",
       "      <th>0</th>\n",
       "      <td>RC3192596592</td>\n",
       "      <td>0.10</td>\n",
       "      <td>0.15</td>\n",
       "      <td>0.05</td>\n",
       "    </tr>\n",
       "    <tr>\n",
       "      <th>1</th>\n",
       "      <td>RC3192596544</td>\n",
       "      <td>0.05</td>\n",
       "      <td>0.00</td>\n",
       "      <td>-0.05</td>\n",
       "    </tr>\n",
       "    <tr>\n",
       "      <th>2</th>\n",
       "      <td>RC3192596312</td>\n",
       "      <td>0.45</td>\n",
       "      <td>0.00</td>\n",
       "      <td>-0.45</td>\n",
       "    </tr>\n",
       "    <tr>\n",
       "      <th>3</th>\n",
       "      <td>RC3192596287</td>\n",
       "      <td>0.00</td>\n",
       "      <td>0.00</td>\n",
       "      <td>0.00</td>\n",
       "    </tr>\n",
       "    <tr>\n",
       "      <th>4</th>\n",
       "      <td>RC3192596255</td>\n",
       "      <td>0.00</td>\n",
       "      <td>0.00</td>\n",
       "      <td>0.00</td>\n",
       "    </tr>\n",
       "  </tbody>\n",
       "</table>\n",
       "</div>"
      ],
      "text/plain": [
       "        Hand_ID  Total_Bet  Total_Won  Net_Result\n",
       "0  RC3192596592       0.10       0.15        0.05\n",
       "1  RC3192596544       0.05       0.00       -0.05\n",
       "2  RC3192596312       0.45       0.00       -0.45\n",
       "3  RC3192596287       0.00       0.00        0.00\n",
       "4  RC3192596255       0.00       0.00        0.00"
      ]
     },
     "execution_count": 46,
     "metadata": {},
     "output_type": "execute_result"
    }
   ],
   "source": [
    "import pandas as pd\n",
    "\n",
    "def get_hero_result(hand_history):\n",
    "    # Extract hand ID\n",
    "    hand_id_match = re.search(r\"Poker Hand #(\\w+)\", hand_history)\n",
    "    hand_id = hand_id_match.group(1) if hand_id_match else \"Unknown\"\n",
    "\n",
    "    # Find Hero's blinds\n",
    "    small_blind_match = re.search(r\"Hero: posts small blind \\$(\\d+\\.\\d+)\", hand_history)\n",
    "    big_blind_match = re.search(r\"Hero: posts big blind \\$(\\d+\\.\\d+)\", hand_history)\n",
    "    \n",
    "    small_blind = float(small_blind_match.group(1)) if small_blind_match else 0.0\n",
    "    big_blind = float(big_blind_match.group(1)) if big_blind_match else 0.0\n",
    "\n",
    "    # Find Hero's raises (only the final value)\n",
    "    hero_raises = re.findall(r\"Hero: raises \\$(?:[\\d.]+) to \\$(\\d+\\.\\d+)\", hand_history)\n",
    "    total_raise = float(hero_raises[-1]) if hero_raises else 0.0\n",
    "\n",
    "    # Find Hero's calls and bets\n",
    "    hero_bets_calls = re.findall(r\"Hero: (bets|calls) \\$(\\d+\\.\\d+)\", hand_history)\n",
    "    total_bet_call = sum(float(amount) for _, amount in hero_bets_calls)\n",
    "\n",
    "    # Determine Hero's total bet amount\n",
    "    if hero_raises:\n",
    "        total_bet = total_raise  # Use final raise value\n",
    "        if hero_bets_calls:  # Add any bets/calls AFTER a raise\n",
    "            total_bet += total_bet_call\n",
    "    else:\n",
    "        total_bet = total_bet_call  # If no raise, just sum bets/calls\n",
    "\n",
    "    # If Hero did not bet/raise, add blinds\n",
    "    if not (hero_bets_calls or hero_raises):\n",
    "        total_bet += small_blind + big_blind\n",
    "\n",
    "    # Find Hero's winnings\n",
    "    uncalled_bet_match = re.search(r\"Uncalled bet \\(\\$(\\d+\\.\\d+)\\) returned to Hero\", hand_history)\n",
    "    collected_pot_match = re.search(r\"Hero collected \\$(\\d+\\.\\d+) from pot\", hand_history)\n",
    "\n",
    "    uncalled_bet = float(uncalled_bet_match.group(1)) if uncalled_bet_match else 0.0\n",
    "    collected_pot = float(collected_pot_match.group(1)) if collected_pot_match else 0.0\n",
    "\n",
    "    total_won = uncalled_bet + collected_pot\n",
    "    net_result = total_won - total_bet\n",
    "    return {\"Hand_ID\": hand_id, \"Total_Bet\": total_bet, \"Total_Won\": total_won, \"Net_Result\": net_result}\n",
    "\n",
    "# Process multiple hands into a DataFrame\n",
    "data = [get_hero_result(hand) for hand in hands]\n",
    "df = pd.DataFrame(data)\n",
    "df.head()"
   ]
  },
  {
   "cell_type": "markdown",
   "metadata": {},
   "source": [
    "* Add a running total column"
   ]
  },
  {
   "cell_type": "code",
   "execution_count": 57,
   "metadata": {},
   "outputs": [
    {
     "data": {
      "text/html": [
       "<div>\n",
       "<style scoped>\n",
       "    .dataframe tbody tr th:only-of-type {\n",
       "        vertical-align: middle;\n",
       "    }\n",
       "\n",
       "    .dataframe tbody tr th {\n",
       "        vertical-align: top;\n",
       "    }\n",
       "\n",
       "    .dataframe thead th {\n",
       "        text-align: right;\n",
       "    }\n",
       "</style>\n",
       "<table border=\"1\" class=\"dataframe\">\n",
       "  <thead>\n",
       "    <tr style=\"text-align: right;\">\n",
       "      <th></th>\n",
       "      <th>Hand_ID</th>\n",
       "      <th>Total_Bet</th>\n",
       "      <th>Total_Won</th>\n",
       "      <th>Net_Result</th>\n",
       "      <th>Total</th>\n",
       "    </tr>\n",
       "  </thead>\n",
       "  <tbody>\n",
       "    <tr>\n",
       "      <th>0</th>\n",
       "      <td>RC3192596592</td>\n",
       "      <td>0.10</td>\n",
       "      <td>0.15</td>\n",
       "      <td>0.05</td>\n",
       "      <td>0.05</td>\n",
       "    </tr>\n",
       "    <tr>\n",
       "      <th>1</th>\n",
       "      <td>RC3192596544</td>\n",
       "      <td>0.05</td>\n",
       "      <td>0.00</td>\n",
       "      <td>-0.05</td>\n",
       "      <td>0.00</td>\n",
       "    </tr>\n",
       "    <tr>\n",
       "      <th>2</th>\n",
       "      <td>RC3192596312</td>\n",
       "      <td>0.45</td>\n",
       "      <td>0.00</td>\n",
       "      <td>-0.45</td>\n",
       "      <td>-0.45</td>\n",
       "    </tr>\n",
       "    <tr>\n",
       "      <th>3</th>\n",
       "      <td>RC3192596287</td>\n",
       "      <td>0.00</td>\n",
       "      <td>0.00</td>\n",
       "      <td>0.00</td>\n",
       "      <td>-0.45</td>\n",
       "    </tr>\n",
       "    <tr>\n",
       "      <th>4</th>\n",
       "      <td>RC3192596255</td>\n",
       "      <td>0.00</td>\n",
       "      <td>0.00</td>\n",
       "      <td>0.00</td>\n",
       "      <td>-0.45</td>\n",
       "    </tr>\n",
       "    <tr>\n",
       "      <th>...</th>\n",
       "      <td>...</td>\n",
       "      <td>...</td>\n",
       "      <td>...</td>\n",
       "      <td>...</td>\n",
       "      <td>...</td>\n",
       "    </tr>\n",
       "    <tr>\n",
       "      <th>12488</th>\n",
       "      <td>RC3294383486</td>\n",
       "      <td>1.91</td>\n",
       "      <td>1.99</td>\n",
       "      <td>0.08</td>\n",
       "      <td>53.64</td>\n",
       "    </tr>\n",
       "    <tr>\n",
       "      <th>12489</th>\n",
       "      <td>RC3294383464</td>\n",
       "      <td>0.00</td>\n",
       "      <td>0.00</td>\n",
       "      <td>0.00</td>\n",
       "      <td>53.64</td>\n",
       "    </tr>\n",
       "    <tr>\n",
       "      <th>12490</th>\n",
       "      <td>RC3294383421</td>\n",
       "      <td>0.00</td>\n",
       "      <td>0.00</td>\n",
       "      <td>0.00</td>\n",
       "      <td>53.64</td>\n",
       "    </tr>\n",
       "    <tr>\n",
       "      <th>12491</th>\n",
       "      <td>RC3294383340</td>\n",
       "      <td>0.05</td>\n",
       "      <td>0.00</td>\n",
       "      <td>-0.05</td>\n",
       "      <td>53.59</td>\n",
       "    </tr>\n",
       "    <tr>\n",
       "      <th>12492</th>\n",
       "      <td>RC3294383298</td>\n",
       "      <td>0.10</td>\n",
       "      <td>0.00</td>\n",
       "      <td>-0.10</td>\n",
       "      <td>53.49</td>\n",
       "    </tr>\n",
       "  </tbody>\n",
       "</table>\n",
       "<p>12493 rows × 5 columns</p>\n",
       "</div>"
      ],
      "text/plain": [
       "            Hand_ID  Total_Bet  Total_Won  Net_Result  Total\n",
       "0      RC3192596592       0.10       0.15        0.05   0.05\n",
       "1      RC3192596544       0.05       0.00       -0.05   0.00\n",
       "2      RC3192596312       0.45       0.00       -0.45  -0.45\n",
       "3      RC3192596287       0.00       0.00        0.00  -0.45\n",
       "4      RC3192596255       0.00       0.00        0.00  -0.45\n",
       "...             ...        ...        ...         ...    ...\n",
       "12488  RC3294383486       1.91       1.99        0.08  53.64\n",
       "12489  RC3294383464       0.00       0.00        0.00  53.64\n",
       "12490  RC3294383421       0.00       0.00        0.00  53.64\n",
       "12491  RC3294383340       0.05       0.00       -0.05  53.59\n",
       "12492  RC3294383298       0.10       0.00       -0.10  53.49\n",
       "\n",
       "[12493 rows x 5 columns]"
      ]
     },
     "execution_count": 57,
     "metadata": {},
     "output_type": "execute_result"
    }
   ],
   "source": [
    "df['Total'] = df['Net_Result'].cumsum().round(2)\n",
    "df"
   ]
  },
  {
   "cell_type": "markdown",
   "metadata": {},
   "source": [
    "* Plot Hero's win rate"
   ]
  },
  {
   "cell_type": "code",
   "execution_count": 69,
   "metadata": {},
   "outputs": [
    {
     "data": {
      "image/png": "[encoded data removed]",
      "text/plain": [
       "<Figure size 1200x500 with 1 Axes>"
      ]
     },
     "metadata": {},
     "output_type": "display_data"
    }
   ],
   "source": [
    "import matplotlib.pyplot as plt\n",
    "import seaborn as sns\n",
    "import numpy as np\n",
    "\n",
    "sns.set_style('whitegrid')\n",
    "# Enable inline plotting in Jupyter Notebook\n",
    "%matplotlib inline \n",
    "\n",
    "# Calculate the regression line\n",
    "x = np.arange(len(df))\n",
    "y = df['Total'].values\n",
    "coefficients = np.polyfit(x, y, 1)\n",
    "trendline = np.polyval(coefficients, x)\n",
    "\n",
    "# Adjust the trendline to start at 0\n",
    "trendline = trendline - trendline[0]\n",
    "\n",
    "plt.figure(figsize=(12, 5))\n",
    "sns.lineplot(data=df, x=df.index, y='Total', label='Total Win/Loss')\n",
    "plt.plot(df.index, trendline, label='Trend Line', color='red')\n",
    "\n",
    "plt.legend()\n",
    "plt.show()"
   ]
  },
  {
   "cell_type": "markdown",
   "metadata": {},
   "source": [
    "* Calculate the win rate in bb/100 hands"
   ]
  },
  {
   "cell_type": "code",
   "execution_count": 63,
   "metadata": {},
   "outputs": [
    {
     "name": "stdout",
     "output_type": "stream",
     "text": [
      "Hero's win rate is 5.3 bb/100\n"
     ]
    }
   ],
   "source": [
    "win_rate = round(float(df.iloc[-1]['Total'] * 10 /100), 1)\n",
    "print(f\"Hero's win rate is {win_rate} bb/100\")"
   ]
  },
  {
   "cell_type": "markdown",
   "metadata": {},
   "source": [
    "---"
   ]
  },
  {
   "cell_type": "markdown",
   "metadata": {},
   "source": [
    "# Conclusions and Next steps"
   ]
  },
  {
   "cell_type": "markdown",
   "metadata": {},
   "source": [
    "* We discovered that hero has a win rate of 5.3 bb/100 hands. This fulfills the **requirement 1**.\n",
    "* We will use this data to pre-train re-inforcement model agents in the next notebook."
   ]
  }
 ],
 "metadata": {
  "kernelspec": {
   "display_name": "pytorch39",
   "language": "python",
   "name": "python3"
  },
  "language_info": {
   "codemirror_mode": {
    "name": "ipython",
    "version": 3
   },
   "file_extension": ".py",
   "mimetype": "text/x-python",
   "name": "python",
   "nbconvert_exporter": "python",
   "pygments_lexer": "ipython3",
   "version": "3.9.21"
  }
 },
 "nbformat": 4,
 "nbformat_minor": 2
}
